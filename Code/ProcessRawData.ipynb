{
 "cells": [
  {
   "cell_type": "code",
   "execution_count": 1,
   "metadata": {},
   "outputs": [],
   "source": [
    "import os\n",
    "import numpy as np"
   ]
  },
  {
   "cell_type": "code",
   "execution_count": 2,
   "metadata": {},
   "outputs": [],
   "source": [
    "data_root_path = \n",
    "output_data_path = "
   ]
  },
  {
   "cell_type": "code",
   "execution_count": 3,
   "metadata": {},
   "outputs": [],
   "source": [
    "with open(os.path.join(data_root_path,'train','news.tsv')) as f:\n",
    "    news1 = f.readlines()\n",
    "with open(os.path.join(data_root_path,'dev','news.tsv')) as f:\n",
    "    news2 = f.readlines()"
   ]
  },
  {
   "cell_type": "code",
   "execution_count": 4,
   "metadata": {},
   "outputs": [],
   "source": [
    "news = []\n",
    "news_dict = {}\n",
    "for l in news1 + news2:\n",
    "    nid = l.strip('\\n').split('\\t')[0]\n",
    "    if not nid in news_dict:\n",
    "        news_dict[nid] = 1\n",
    "        news.append(l)"
   ]
  },
  {
   "cell_type": "code",
   "execution_count": 5,
   "metadata": {},
   "outputs": [],
   "source": [
    "with open(os.path.join(output_data_path,'docs.tsv'),'w') as f:\n",
    "    for i in range(len(news)):\n",
    "        f.write(news[i])"
   ]
  },
  {
   "cell_type": "code",
   "execution_count": null,
   "metadata": {},
   "outputs": [],
   "source": []
  },
  {
   "cell_type": "code",
   "execution_count": 6,
   "metadata": {},
   "outputs": [],
   "source": [
    "with open(os.path.join(data_root_path,'train','behaviors.tsv')) as f:\n",
    "    behaviors1 = f.readlines()\n",
    "with open(os.path.join(data_root_path,'dev','behaviors.tsv')) as f:\n",
    "    behaviors2 = f.readlines()"
   ]
  },
  {
   "cell_type": "code",
   "execution_count": null,
   "metadata": {},
   "outputs": [],
   "source": []
  },
  {
   "cell_type": "code",
   "execution_count": 7,
   "metadata": {},
   "outputs": [],
   "source": [
    "train_behaviors = []\n",
    "val_behaviors = []\n",
    "index = np.random.permutation(len(behaviors1))\n",
    "num = int(0.95*len(behaviors1))\n",
    "for i in range(num):\n",
    "    train_behaviors.append(behaviors1[i])\n",
    "for i in range(num,len(behaviors1)):\n",
    "    val_behaviors.append(behaviors1[i])\n",
    "test_behaviors = behaviors2"
   ]
  },
  {
   "cell_type": "code",
   "execution_count": 8,
   "metadata": {},
   "outputs": [],
   "source": [
    "with open(os.path.join(output_data_path,'train.tsv'),'w') as f:\n",
    "    for i in range(len(train_behaviors)):\n",
    "        f.write(train_behaviors[i])\n",
    "with open(os.path.join(output_data_path,'val.tsv'),'w') as f:\n",
    "    for i in range(len(val_behaviors)):\n",
    "        f.write(val_behaviors[i])\n",
    "with open(os.path.join(output_data_path,'test.tsv'),'w') as f:\n",
    "    for i in range(len(test_behaviors)):\n",
    "        f.write(test_behaviors[i])"
   ]
  },
  {
   "cell_type": "code",
   "execution_count": null,
   "metadata": {},
   "outputs": [],
   "source": []
  },
  {
   "cell_type": "code",
   "execution_count": null,
   "metadata": {},
   "outputs": [],
   "source": []
  },
  {
   "cell_type": "code",
   "execution_count": null,
   "metadata": {},
   "outputs": [],
   "source": []
  },
  {
   "cell_type": "code",
   "execution_count": null,
   "metadata": {},
   "outputs": [],
   "source": []
  },
  {
   "cell_type": "code",
   "execution_count": null,
   "metadata": {},
   "outputs": [],
   "source": []
  }
 ],
 "metadata": {
  "kernelspec": {
   "display_name": "Python 3",
   "language": "python",
   "name": "python3"
  },
  "language_info": {
   "codemirror_mode": {
    "name": "ipython",
    "version": 3
   },
   "file_extension": ".py",
   "mimetype": "text/x-python",
   "name": "python",
   "nbconvert_exporter": "python",
   "pygments_lexer": "ipython3",
   "version": "3.7.6"
  }
 },
 "nbformat": 4,
 "nbformat_minor": 4
}
